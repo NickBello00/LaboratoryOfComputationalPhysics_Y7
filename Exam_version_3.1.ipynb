{
 "cells": [
  {
   "cell_type": "markdown",
   "id": "141da825",
   "metadata": {},
   "source": [
    "4.6\\. Use broadcasting to create a grid of distances (15 MINUTES)\n",
    "\n",
    "Route 66 crosses the following cities in the US: Chicago, Springfield, Saint-Louis, Tulsa, Oklahoma City, Amarillo, Santa Fe, Albuquerque, Flagstaff, Los Angeles\n",
    "The corresponding positions in miles are: 0, 198, 303, 736, 871, 1175, 1475, 1544, 1913, 2448\n",
    "\n",
    "  * Construct a 2D grid of distances among each city along Route 66\n",
    "  * Convert that in km (those savages...)"
   ]
  },
  {
   "cell_type": "code",
   "execution_count": 3,
   "id": "7d851a34",
   "metadata": {},
   "outputs": [
    {
     "name": "stdout",
     "output_type": "stream",
     "text": [
      "the grid of distances (in km) for the route-66 is:\n",
      "                   Chicago  Springfield  Saint-Louis       Tulsa  \\\n",
      "Chicago           0.00000    318.64932    487.63002  1184.47424   \n",
      "Springfield     318.64932      0.00000    168.98070   865.82492   \n",
      "Saint-Louis     487.63002    168.98070      0.00000   696.84422   \n",
      "Tulsa          1184.47424    865.82492    696.84422     0.00000   \n",
      "Oklahoma City  1401.73514   1083.08582    914.10512   217.26090   \n",
      "Amarillo       1890.97450   1572.32518   1403.34448   706.50026   \n",
      "Santa Fe       2373.77650   2055.12718   1886.14648  1189.30226   \n",
      "Albuquerque    2484.82096   2166.17164   1997.19094  1300.34672   \n",
      "Flagstaff      3078.66742   2760.01810   2591.03740  1894.19318   \n",
      "Los Angeles    3939.66432   3621.01500   3452.03430  2755.19008   \n",
      "\n",
      "               Oklahoma City    Amarillo    Santa Fe  Albuquerque   Flagstaff  \\\n",
      "Chicago           1401.73514  1890.97450  2373.77650   2484.82096  3078.66742   \n",
      "Springfield       1083.08582  1572.32518  2055.12718   2166.17164  2760.01810   \n",
      "Saint-Louis        914.10512  1403.34448  1886.14648   1997.19094  2591.03740   \n",
      "Tulsa              217.26090   706.50026  1189.30226   1300.34672  1894.19318   \n",
      "Oklahoma City        0.00000   489.23936   972.04136   1083.08582  1676.93228   \n",
      "Amarillo           489.23936     0.00000   482.80200    593.84646  1187.69292   \n",
      "Santa Fe           972.04136   482.80200     0.00000    111.04446   704.89092   \n",
      "Albuquerque       1083.08582   593.84646   111.04446      0.00000   593.84646   \n",
      "Flagstaff         1676.93228  1187.69292   704.89092    593.84646     0.00000   \n",
      "Los Angeles       2537.92918  2048.68982  1565.88782   1454.84336   860.99690   \n",
      "\n",
      "               Los Angeles  \n",
      "Chicago         3939.66432  \n",
      "Springfield     3621.01500  \n",
      "Saint-Louis     3452.03430  \n",
      "Tulsa           2755.19008  \n",
      "Oklahoma City   2537.92918  \n",
      "Amarillo        2048.68982  \n",
      "Santa Fe        1565.88782  \n",
      "Albuquerque     1454.84336  \n",
      "Flagstaff        860.99690  \n",
      "Los Angeles        0.00000  \n"
     ]
    }
   ],
   "source": [
    "import numpy as np\n",
    "import pandas as pd\n",
    "import math as m\n",
    "\n",
    "# definiton of a list and an array for cities and distances in miles\n",
    "cities = [\"Chicago\", \"Springfield\", \"Saint-Louis\", \"Tulsa\", \"Oklahoma City\", \"Amarillo\", \"Santa Fe\", \"Albuquerque\", \"Flagstaff\", \"Los Angeles\"]\n",
    "positions_miles = np.array([0, 198, 303, 736, 871, 1175, 1475, 1544, 1913, 2448])\n",
    "\n",
    "# conversion of the miles in kilometers\n",
    "positions_km = positions_miles * 1.60934\n",
    "\n",
    "# building the grid of distances along the route 66 \n",
    "grid_distances = np.abs(positions_km[:, np.newaxis] - positions_km)\n",
    "df_distances = pd.DataFrame(grid_distances, index=cities, columns=cities)\n",
    "print(f\"the grid of distances (in km) for the route-66 is:\\n {df_distances}\")"
   ]
  },
  {
   "cell_type": "markdown",
   "id": "5d572d89",
   "metadata": {},
   "source": [
    "## Pandas analysis (60 MINUTES)\n",
    "\n",
    "This exercise consists in analyzing a dataset containg timing information from a series of Time-to-Digital-Converters (TDC) implemented in a couple of FPGAs. Each measurement (i.e. each row of the input file) consists of a flag that specifies the type of message ('HEAD', which in this case is always 1), two addresses of the TDC providing the signal ('FPGA' and 'TDC_CHANNEL'), and the timing information ('ORBIT_CNT', 'BX_COUNTER', and 'TDC_MEAS'). Each TDC count corresponds to 25/30 ns, whereas a unit of BX_COUNTER corresponds to 25 ns, and the ORBIT_CNT is increased every 'x' BX_COUNTER. This allows to store the time in a similar way to hours, minutes and seconds.\n",
    "\n",
    "1\\. Create a Pandas DataFrame reading N rows of the 'data_000637.txt' dataset. Choose N to be smaller than or equal to the maximum number of rows and larger that 10k.\n",
    "\n",
    "2\\. Find out the number of BX in a ORBIT (the value 'x').\n",
    "\n",
    "3\\. Find out how much the data taking lasted. You can either make an estimate based on the fraction of the measurements (rows) you read, or perform this check precisely by reading out the whole dataset.\n",
    "\n",
    "4\\. Create a new column with the absolute time in ns (as a combination of the other three columns with timing information).\n",
    "\n",
    "5\\. Replace the values (all 1) of the HEAD column randomly with 0 or 1.\n",
    "\n",
    "6\\. Create a new DataFrame that contains only the rows with HEAD=1.\n",
    "\n",
    "7\\. Make two occupancy plots (one for each FPGA), i.e. plot the number of counts per TDC channel\n",
    "\n",
    "8\\. Use the groupby method to find out the noisy channels, i.e. the TDC channels with most counts (say the top 3)\n",
    "\n",
    "9\\. Count the number of unique orbits. Count the number of unique orbits with at least one measurement from TDC_CHANNEL=139"
   ]
  },
  {
   "cell_type": "code",
   "execution_count": 22,
   "id": "f795fe8a",
   "metadata": {},
   "outputs": [
    {
     "name": "stdout",
     "output_type": "stream",
     "text": [
      "The number of units of BX_COUNTER for each unit of ORBIT_COUNT is: 3564\n",
      "Taking the data for the first N rows required: 980406479.1666666 ns\n",
      ">The 3 most noisy channels are: TDC_CHANNEL\n",
      "139            59741\n",
      "64             36746\n",
      "63             35735\n",
      "Name: count, dtype: int64\n",
      "11000\n",
      "number of unique orbits with at least one meas from ch 139: 10870\n"
     ]
    },
    {
     "data": {
      "image/png": "[encoded data removed]",
      "text/plain": [
       "<Figure size 640x480 with 1 Axes>"
      ]
     },
     "metadata": {},
     "output_type": "display_data"
    }
   ],
   "source": [
    "import numpy as np\n",
    "import pandas as pd\n",
    "import matplotlib.pyplot as plt\n",
    "import random\n",
    "\n",
    "# selecting a number N such that: n <= N <= max_rows_number\n",
    "M = 10000\n",
    "columns = ['HEAD', 'FPGA', 'TDC_CHANNEL', 'ORBIT_CNT', 'BX_COUNTER', 'TDC_MEAS']\n",
    "full_data = pd.read_csv('C:\\\\Users\\\\NickBello\\\\Desktop\\\\phyton_shit\\\\data_000637.txt', sep=',', skiprows=1, names=columns, header=None)\n",
    "max_rows = len(full_data)\n",
    "N = random.randint(M+1, max_rows)\n",
    "\n",
    "# creating a dataframe reading and working with only the first N rows\n",
    "DataFrame = full_data.sample(n=N)\n",
    "\n",
    "# timing informations\n",
    "TDC_count = 25/30 # ns\n",
    "BX_COUNTER = 25   # ns\n",
    "\n",
    "# finding the units of BX_COUNTER in a single unit of ORBIT_COUNT\n",
    "x = DataFrame[\"BX_COUNTER\"].max() + 1\n",
    "print(f\"The number of units of BX_COUNTER for each unit of ORBIT_COUNT is: {x}\")\n",
    "\n",
    "# total time of the data collection for the first N rows and added a column to the dataset\n",
    "DataFrame['SIMULATION_TIME'] = (DataFrame[\"TDC_MEAS\"]*TDC_count + DataFrame[\"BX_COUNTER\"]*25 + (DataFrame[\"ORBIT_CNT\"]-DataFrame[\"ORBIT_CNT\"].min())*x*25)\n",
    "total_time = DataFrame[\"SIMULATION_TIME\"].max() - DataFrame[\"SIMULATION_TIME\"].min()\n",
    "print(f\"Taking the data for the first N rows required: {total_time} ns\")\n",
    "\n",
    "# replacing HEAD=1 randomly with 0 and 1\n",
    "DataFrame['HEAD'] = pd.Series(np.random.randint(2, size=N), index=DataFrame.index)\n",
    "\n",
    "# new dataframe with only the rows with HEAD==True\n",
    "new_df = DataFrame[DataFrame['HEAD']==True]\n",
    "\n",
    "#plotting\n",
    "(DataFrame.groupby(\"FPGA\"))[\"TDC_CHANNEL\"].hist(bins=120)\n",
    "pcc = DataFrame.value_counts(subset=['TDC_CHANNEL'])\n",
    "print(f\">The 3 most noisy channels are: {pcc[:3]}\")\n",
    "\n",
    "# unique orbit\n",
    "unique_orbit = DataFrame['ORBIT_CNT'].nunique()\n",
    "print(unique_orbit)\n",
    "\n",
    "filtered_data = (DataFrame[DataFrame['TDC_CHANNEL'] == 139])['ORBIT_CNT'].nunique()\n",
    "print('number of unique orbits with at least one meas from ch 139:', filtered_data)\n"
   ]
  },
  {
   "cell_type": "markdown",
   "id": "3abc9fd2",
   "metadata": {},
   "source": [
    "10.3\\. **Monte Carlo integration: hit/miss vs mean value method** (30 MINUTES)\n",
    "\n",
    "Consider the function \n",
    "\n",
    "$$f(x) =\\sin^2{\\frac{1}{x(2-x)}}$$\n",
    "\n",
    "* Compute the integral of $f(x)$ between 0 and 2 with the hit/miss method. Evaluate the error of your estimate\n",
    "* Repeat the integral with the mean value method. Evaluate the error and compare it with the previous one"
   ]
  },
  {
   "cell_type": "code",
   "execution_count": 3,
   "id": "86a63df3",
   "metadata": {},
   "outputs": [
    {
     "name": "stdout",
     "output_type": "stream",
     "text": [
      "hit-miss   -> 1.45706 +- 0.00539825897859671\n",
      "mean value -> 1.4542456485130038 +- 1.3803961743443731e-06\n"
     ]
    }
   ],
   "source": [
    "import numpy as np\n",
    "\n",
    "def f(x): return (np.sin(1/(x*(2-x))))**2\n",
    "\n",
    "delta_x = 2-0\n",
    "delta_y = 1-0\n",
    "\n",
    "N = 10**5\n",
    "\n",
    "# hit-miss method\n",
    "x, y = delta_x*np.random.random(N), delta_y*np.random.random(N)\n",
    "hit = np.sum(y<f(x))\n",
    "I = delta_x*delta_y*hit/N\n",
    "err = delta_x*delta_y*np.sqrt(hit)/N\n",
    "print('hit-miss   ->', I, '+-', err)\n",
    "\n",
    "# mean-value method\n",
    "i = delta_x*delta_y*np.sum(f(x))/N\n",
    "var = delta_x*delta_y*np.var(f(x))/N\n",
    "print('mean value ->', i, '+-', var)"
   ]
  },
  {
   "cell_type": "code",
   "execution_count": null,
   "id": "9c484758-7ae4-4e36-ab14-6de4512dfcef",
   "metadata": {},
   "outputs": [],
   "source": []
  }
 ],
 "metadata": {
  "kernelspec": {
   "display_name": "Python 3 (ipykernel)",
   "language": "python",
   "name": "python3"
  },
  "language_info": {
   "codemirror_mode": {
    "name": "ipython",
    "version": 3
   },
   "file_extension": ".py",
   "mimetype": "text/x-python",
   "name": "python",
   "nbconvert_exporter": "python",
   "pygments_lexer": "ipython3",
   "version": "3.12.4"
  }
 },
 "nbformat": 4,
 "nbformat_minor": 5
}
